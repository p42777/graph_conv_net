{
  "nbformat": 4,
  "nbformat_minor": 0,
  "metadata": {
    "colab": {
      "name": "msg_passing.ipynb",
      "provenance": [],
      "authorship_tag": "ABX9TyPwB5dQp3EvPY9WRiWU9eUN",
      "include_colab_link": true
    },
    "kernelspec": {
      "name": "python3",
      "display_name": "Python 3"
    },
    "language_info": {
      "name": "python"
    }
  },
  "cells": [
    {
      "cell_type": "markdown",
      "metadata": {
        "id": "view-in-github",
        "colab_type": "text"
      },
      "source": [
        "<a href=\"https://colab.research.google.com/github/p42777/graph_conv_net/blob/main/msg_passing.ipynb\" target=\"_parent\"><img src=\"https://colab.research.google.com/assets/colab-badge.svg\" alt=\"Open In Colab\"/></a>"
      ]
    },
    {
      "cell_type": "code",
      "source": [
        "%matplotlib inline"
      ],
      "metadata": {
        "id": "iq7Rtjun8h9_"
      },
      "execution_count": 10,
      "outputs": []
    },
    {
      "cell_type": "code",
      "source": [
        "import numpy as np\n",
        "import networkx as nx\n",
        "import matplotlib.pyplot as plt\n",
        "\n",
        "from scipy.linalg import sqrtm \n",
        "from scipy.special import softmax\n",
        "from networkx.algorithms.community.modularity_max import greedy_modularity_communities\n",
        "from matplotlib import animation"
      ],
      "metadata": {
        "id": "jMp0yFy_8kLE"
      },
      "execution_count": 11,
      "outputs": []
    },
    {
      "cell_type": "code",
      "source": [
        "A = np.array([[0, 1, 0, 0, 0], [1, 0, 1, 0, 0], [0, 1, 0, 1, 1], [0, 0, 1, 0, 0], [0, 0, 1, 0, 0]])\n",
        "print(\"A: \\n\", A)\n",
        "print(\"\\n\")\n",
        "\n",
        "features = np.arange(A.shape[0]).reshape((-1,1))+1\n",
        "print(\"features: \\n\", features)\n",
        "print(\"\\n\")\n",
        "\n",
        "H = A @ features\n",
        "print(\"H: \\n\", H)"
      ],
      "metadata": {
        "colab": {
          "base_uri": "https://localhost:8080/"
        },
        "id": "t1mkJ8Px8v6F",
        "outputId": "53ec29fc-7ebf-40fb-a7b3-bec8ffa5a0a0"
      },
      "execution_count": 12,
      "outputs": [
        {
          "output_type": "stream",
          "name": "stdout",
          "text": [
            "A: \n",
            " [[0 1 0 0 0]\n",
            " [1 0 1 0 0]\n",
            " [0 1 0 1 1]\n",
            " [0 0 1 0 0]\n",
            " [0 0 1 0 0]]\n",
            "\n",
            "\n",
            "features: \n",
            " [[1]\n",
            " [2]\n",
            " [3]\n",
            " [4]\n",
            " [5]]\n",
            "\n",
            "\n",
            "H: \n",
            " [[ 2]\n",
            " [ 4]\n",
            " [11]\n",
            " [ 3]\n",
            " [ 3]]\n"
          ]
        }
      ]
    },
    {
      "cell_type": "markdown",
      "source": [
        "# **Neighborhood Sum**"
      ],
      "metadata": {
        "id": "q3IgvxV_9WHq"
      }
    },
    {
      "cell_type": "code",
      "source": [
        "D = np.zeros(A.shape)\n",
        "np.fill_diagonal(D, A.sum(axis = 0))\n",
        "print(\"D: \\n\", D)\n",
        "print(\"\\n\")\n",
        "\n",
        "D_inverse = np.linalg.inv(D)\n",
        "print(\"Inverse of D: \\n\", D_inverse)\n",
        "print(\"\\n\")\n",
        "\n",
        "H_average = D_inverse @ A @ features\n",
        "print(\"Mean of H: \\n\", H_average)"
      ],
      "metadata": {
        "colab": {
          "base_uri": "https://localhost:8080/"
        },
        "id": "sODun0CV9Z3h",
        "outputId": "3dc07576-82de-4b67-ce0f-5d7d28329e0f"
      },
      "execution_count": 13,
      "outputs": [
        {
          "output_type": "stream",
          "name": "stdout",
          "text": [
            "D: \n",
            " [[1. 0. 0. 0. 0.]\n",
            " [0. 2. 0. 0. 0.]\n",
            " [0. 0. 3. 0. 0.]\n",
            " [0. 0. 0. 1. 0.]\n",
            " [0. 0. 0. 0. 1.]]\n",
            "\n",
            "\n",
            "Inverse of D: \n",
            " [[1.         0.         0.         0.         0.        ]\n",
            " [0.         0.5        0.         0.         0.        ]\n",
            " [0.         0.         0.33333333 0.         0.        ]\n",
            " [0.         0.         0.         1.         0.        ]\n",
            " [0.         0.         0.         0.         1.        ]]\n",
            "\n",
            "\n",
            "Mean of H: \n",
            " [[2.        ]\n",
            " [2.        ]\n",
            " [3.66666667]\n",
            " [3.        ]\n",
            " [3.        ]]\n"
          ]
        }
      ]
    },
    {
      "cell_type": "markdown",
      "source": [
        "# **Normalized Adjacency Matrix : $\\hat{A}=\\tilde{D}^{-\\frac{1}{2}} \\tilde{A} \\tilde{D}^{-\\frac{1}{2}}$**"
      ],
      "metadata": {
        "id": "huNICYAE_xC9"
      }
    },
    {
      "cell_type": "code",
      "source": [
        "graph = nx.from_numpy_array(A)\n",
        "A_tilde = A + np.eye(graph.number_of_nodes())\n",
        "\n",
        "# D for A_tilde:\n",
        "D_tilde = np.zeros_like(A_tilde)\n",
        "np.fill_diagonal(D_tilde, A_tilde.sum(axis=1).flatten())\n",
        "\n",
        "# Inverse square root of D:\n",
        "D_tilde_inverse = np.linalg.inv(sqrtm(D_tilde))\n",
        "\n",
        "print(\"D tilde: \\n\", D_tilde)\n",
        "print(\"\\n\")\n",
        "print(\"Inverse square root of D: \\n\", D_tilde_inverse)"
      ],
      "metadata": {
        "colab": {
          "base_uri": "https://localhost:8080/"
        },
        "id": "hCTIbrcu_wtZ",
        "outputId": "901005d0-f5a6-4f0d-bb74-1b4a0a8ef3ad"
      },
      "execution_count": 14,
      "outputs": [
        {
          "output_type": "stream",
          "name": "stdout",
          "text": [
            "D tilde: \n",
            " [[2. 0. 0. 0. 0.]\n",
            " [0. 3. 0. 0. 0.]\n",
            " [0. 0. 4. 0. 0.]\n",
            " [0. 0. 0. 2. 0.]\n",
            " [0. 0. 0. 0. 2.]]\n",
            "\n",
            "\n",
            "Inverse square root of D: \n",
            " [[0.70710678 0.         0.         0.         0.        ]\n",
            " [0.         0.57735027 0.         0.         0.        ]\n",
            " [0.         0.         0.5        0.         0.        ]\n",
            " [0.         0.         0.         0.70710678 0.        ]\n",
            " [0.         0.         0.         0.         0.70710678]]\n"
          ]
        }
      ]
    },
    {
      "cell_type": "code",
      "source": [
        "labels = {i: i+1 for i in range(graph.number_of_nodes())}\n",
        "pos = nx.planar_layout(graph)\n",
        "\n",
        "fig, ax = plt.subplots(figsize = (10,10))\n",
        "nx.draw(graph, pos, with_labels=True, labels = labels, node_color = '#83C167', ax = ax, edge_color = 'black', node_size = 1500, font_size = 30, font_family = 'serif')\n",
        "plt.savefig('graph.png', bbox_inches = 'tight', transparent = True)\n",
        "print(pos)"
      ],
      "metadata": {
        "colab": {
          "base_uri": "https://localhost:8080/",
          "height": 592
        },
        "id": "JK1ZApuUDVhW",
        "outputId": "e0d6e180-f471-4bae-caa8-38c3e7034f3a"
      },
      "execution_count": 15,
      "outputs": [
        {
          "output_type": "stream",
          "name": "stdout",
          "text": [
            "{0: array([-0.875, -0.375]), 1: array([ 1.   , -0.375]), 2: array([0.375, 0.25 ]), 3: array([-0.5625, -0.0625]), 4: array([0.0625, 0.5625])}\n"
          ]
        },
        {
          "output_type": "display_data",
          "data": {
            "text/plain": [
              "<Figure size 720x720 with 1 Axes>"
            ],
            "image/png": "[encoded data removed]"
          },
          "metadata": {}
        }
      ]
    },
    {
      "cell_type": "code",
      "source": [
        "A_hat = D_tilde_inverse @ A_tilde @ D_tilde_inverse"
      ],
      "metadata": {
        "id": "vO1sxE_EELTc"
      },
      "execution_count": 17,
      "outputs": []
    },
    {
      "cell_type": "code",
      "source": [
        "H = np.zeros((graph.number_of_nodes(), 1))\n",
        "H[0,0] = 1 \n",
        "results = [H.flatten()]\n",
        "\n",
        "for i in range(10):\n",
        "    H = A_hat @ H\n",
        "    results.append(H.flatten())\n",
        "\n",
        "print(f\"Initial signal input: {results[0]}\")\n",
        "print(f\"Final signal output after running 10 steps of message-passing:  {results[-1]}\")"
      ],
      "metadata": {
        "colab": {
          "base_uri": "https://localhost:8080/"
        },
        "id": "KhvszWeLET-7",
        "outputId": "e629b803-7e74-4727-cbf7-8aa0b2093416"
      },
      "execution_count": 21,
      "outputs": [
        {
          "output_type": "stream",
          "name": "stdout",
          "text": [
            "Initial signal input: [1. 0. 0. 0. 0.]\n",
            "Final signal output after running 10 steps of message-passing:  [0.18381719 0.20791335 0.20436693 0.13626176 0.13626176]\n"
          ]
        }
      ]
    },
    {
      "cell_type": "code",
      "source": [
        "fig, ax = plt.subplots(figsize=(10, 10))\n",
        "\n",
        "kwargs = {'cmap': 'hot', 'node_size': 1500, 'edge_color': 'gray', 'vmin': np.array(results).min(), 'vmax': np.array(results).max()*1.1}\n",
        "\n",
        "def update(idx):\n",
        "    ax.clear()\n",
        "    colors = results[idx]\n",
        "    nx.draw(graph, pos, node_color = colors, ax = ax, **kwargs)\n",
        "    ax.set_title(f\"Iteration = {idx}\", fontsize=20)\n",
        "\n",
        "anim = animation.FuncAnimation(fig, update, frames = len(results), interval = 1000, repeat = True)"
      ],
      "metadata": {
        "colab": {
          "base_uri": "https://localhost:8080/",
          "height": 596
        },
        "id": "_3MNWhlVEqK7",
        "outputId": "3ebc7145-b39f-4997-eb54-4bf245126666"
      },
      "execution_count": 23,
      "outputs": [
        {
          "output_type": "display_data",
          "data": {
            "text/plain": [
              "<Figure size 720x720 with 1 Axes>"
            ],
            "image/png": "[encoded data removed]"
          },
          "metadata": {}
        }
      ]
    },
    {
      "cell_type": "code",
      "source": [
        "anim.save('result.mp4', dpi=600, bitrate=-1,savefig_kwargs={'transparent': True, 'facecolor': 'none'})\n",
        "from IPython.display import HTML\n",
        "HTML(anim.to_html5_video())"
      ],
      "metadata": {
        "colab": {
          "base_uri": "https://localhost:8080/",
          "height": 741
        },
        "id": "M40uabjsE4vu",
        "outputId": "3f56a5da-00e6-4c4f-d8ce-5569f422495f"
      },
      "execution_count": 26,
      "outputs": [
        {
          "output_type": "execute_result",
          "data": {
            "text/plain": [
              "<IPython.core.display.HTML object>"
            ],
            "text/html": [
              "<video width=\"720\" height=\"720\" controls autoplay loop>\n",
              "  <source type=\"video/mp4\" src=\"data:video/mp4;base64,AAAAHGZ0eXBNNFYgAAACAGlzb21pc28yYXZjMQAAAAhmcmVlAAAz7m1kYXQAAAKtBgX//6ncRem9\n",
              "5tlIt5Ys2CDZI+7veDI2NCAtIGNvcmUgMTUyIHIyODU0IGU5YTU5MDMgLSBILjI2NC9NUEVHLTQg\n",
              "QVZDIGNvZGVjIC0gQ29weWxlZnQgMjAwMy0yMDE3IC0gaHR0cDovL3d3dy52aWRlb2xhbi5vcmcv\n",
              "eDI2NC5odG1sIC0gb3B0aW9uczogY2FiYWM9MSByZWY9MyBkZWJsb2NrPTE6MDowIGFuYWx5c2U9\n",
              "MHgzOjB4MTEzIG1lPWhleCBzdWJtZT03IHBzeT0xIHBzeV9yZD0xLjAwOjAuMDAgbWl4ZWRfcmVm\n",
              "PTEgbWVfcmFuZ2U9MTYgY2hyb21hX21lPTEgdHJlbGxpcz0xIDh4OGRjdD0xIGNxbT0wIGRlYWR6\n",
              "b25lPTIxLDExIGZhc3RfcHNraXA9MSBjaHJvbWFfcXBfb2Zmc2V0PS0yIHRocmVhZHM9MyBsb29r\n",
              "YWhlYWRfdGhyZWFkcz0xIHNsaWNlZF90aHJlYWRzPTAgbnI9MCBkZWNpbWF0ZT0xIGludGVybGFj\n",
              "ZWQ9MCBibHVyYXlfY29tcGF0PTAgY29uc3RyYWluZWRfaW50cmE9MCBiZnJhbWVzPTMgYl9weXJh\n",
              "bWlkPTIgYl9hZGFwdD0xIGJfYmlhcz0wIGRpcmVjdD0xIHdlaWdodGI9MSBvcGVuX2dvcD0wIHdl\n",
              "aWdodHA9MiBrZXlpbnQ9MjUwIGtleWludF9taW49MSBzY2VuZWN1dD00MCBpbnRyYV9yZWZyZXNo\n",
              "PTAgcmNfbG9va2FoZWFkPTQwIHJjPWNyZiBtYnRyZWU9MSBjcmY9MjMuMCBxY29tcD0wLjYwIHFw\n",
              "bWluPTAgcXBtYXg9NjkgcXBzdGVwPTQgaXBfcmF0aW89MS40MCBhcT0xOjEuMDAAgAAAFnBliIQA\n",
              "F//+99S3zLLtU2+2C6j3op4mX0N1JQGblsTtOoAAAAMAAAMAAAMA6VSCY3zuANGMtAAAAwBTwAqY\n",
              "FzZsTul8Vg3gAIS6aoHRHdczCql9aSSo6fbnLABIB1n7hSnUtENOzTP+Xt8SkrVPsRZ+SJ8DwDyd\n",
              "Vi+NtvxBVHjTZ3UE3gfz1VqOLFDCYWCFp0toyHG10dDdV8TG8tMyTQwt8TQPHKEzTpq505vgneI1\n",
              "Cyyhx2YURWqS5ahs5dFobG2HO/LLoxVlu2QY4xDozqrnAYp8GbKRhadkZx5htsgOqvk4ZRnd+qAb\n",
              "q8G84b3UNm+ZIswBwO8wEHY0j/yMwekMeiYPPokiJ3aBWWlSagvypTTDpgz3QFtV7vW9wewd0vFQ\n",
              "WSi8n5kQtKEcXjq6ADZ1L0Ddies5j8U34WvUiZ32/wxEWMO5YVDtiJ3m41Wyw8IZzPui66Kij38V\n",
              "nmmwARkKyIOOpykGPXkMSfL4m46SJeUq8yjUHnzYaNcQjYYh7QO+JNUrzwn7riyInHoxuw+r29lq\n",
              "ZeWGwK3oLWLfq1mUPMm2gJISX65dOtCPozSybk7nCv4GcqtCFZTQfuy+Xuymnhu8/UEt4qzghXh8\n",
              "ZO0YsvwpNsGwiSCTqkWJFnVLm1tp8HWzd3CAl+pkI9mvBr7YDepOZtFH8bCXbIx2rBfSMrVNlZo7\n",
              "QRl/R/B5/2a52WO6Opf14C8Vbcw6ffHfVd1wWdKXGrbT7sZXeurD8lChlSPuLW2yr+tqetn80BM/\n",
              "8Mzps7SWwX90tn3j1F2d5TRlj8JNNMen019iYVB1vC7ErQuuNyCFZSXHJUZGieBkXnmv6pg3lL6Y\n",
              "UZRhLisavgH5nakryy2p3suTsy0Isnjo6JV0AXKUuLBtBc+Gp8l6asM/AFRoEXt5dQswlyt5zk5K\n",
              "pNsfOQcbi938FKu/i+OJIptvgsAYfJb/miskTapQpJg3jSk0clce4t0UVoELUytLOcYLbeFC0oZX\n",
              "+ONpjrF3KucsTPSpyzMp6ifkeYNbam6LgCUG20TIlh01flLBfjZE3cPJDwiJtJ/GQWw6ehwV6xpZ\n",
              "H6MBB9uX3OUOv+IyJrF6hI1WOwiU7+rbk9hcaW3mhrgyY1hyFINGroP75cNNNWAXvEW30e8wluA0\n",
              "yAnh7F4VcusVlMtX85ATJWW1NgVBZO2M4p9T9Dm5UGQCtILaPgtAT0++PM3/oh4cIGd1DkMgWwqa\n",
              "mnUe9amr2FZZnaxCpw4LpxGx924P4A7kgOjMM23pcx+gAK+IR96arJ7v0qPEa9QVeNvK5X/txrRR\n",
              "XQ9TG4wnEY5F9uXsgsl7MPtO6phMaeqI5m9srX6oLIrF0KsfAM5WxVbCjlkc3nhWx7ZvO/mkFl1n\n",
              "tY/zoLW594drOQ7wUwdSftYP5yf+VMTm/+pK4kY7GrDLOZdfFR3m5f+X+DxqOYyMBBaeqPC/1Hzw\n",
              "HiGuIhqDNI042r9MPHHABNJ/UQf6MXFenyexUxofI0UNFNf/eCAAZp0vDG9ZIOEpG4PvhCx0Dalh\n",
              "OeVZg+EP1Yg7pBeaBnP3OypO1vfS67tAXAT3tYC/nTI4gqv7NizaDEEloG+SNP7x5bB8y0fbkxXh\n",
              "3taHLhPxg6qu1Gs1/nB0cHTGQ30pMzr84z3Dgl+S+Gky6V7fIgWn63kAZV+pc3HXzUv/zGb/9w5w\n",
              "iGtFO2IkpEMv/U6Kd0QEa3XCe/lPJigthwobnHt1L3SB2WcCPN2gKfGTuwI7k3lyd9xMztVW/OMc\n",
              "MFHtgDwiBNI7aRFnnonW0GBlB3T2xvSXypBx7RUrBJkizyev1F8Vl5jM0LRvhjVYb/XZK399hX3t\n",
              "u6ltTYzPWnCMqUuXmOdMC5eERbsgw6nVpuxPz1tgVT/KhKbiQ3XHTHAiVcAKeuugmwPtJWGTqQ/3\n",
              "o3XZaKuMf7KbBhMqH6sn1+5h+2VrQgk1wQXjoXp7taQ5VjzKI9pjdo0+UJGKljdHn2ueKGcRB8iC\n",
              "P4cm+OS3OVASzKP6K3+ksLR3yS2IvM8zH4Bmmb4nJWPFPxsvjj2b2/WLZd91ZrIptLJqc0k28mZF\n",
              "iGXBlggo2rFpEuTr/S0G/VBwOgAGSlPC2TQoNmZ92gkqYyI14E6dgQs3pkLE1Bu2qys+NrQ7ud7F\n",
              "/1fz7LrpzSyXOGETzqeRAxeSOOSo6yGWsATihHHAWbTo9pd8W6xCRFvlgvbPO5LMCRBx5KKO4bFn\n",
              "4xJRjQVk0c3MSNnGmlDYNiMghUvCnL3WAVM7STWJQ9Hhs0+dmbJkKB0A6azOTh/duDvb2tCz6F+d\n",
              "X64phusXFI5jns3OA6fMJen/iFEoB6t9IXMticgNFkdjpkhS5qjWsSGJY43dejxJL+vEXuB4wZ0U\n",
              "QnvWsMtm64xs3K/bDEmlhPu4hRDuAFEXX9XWOHiuU8293q8EK3GDMTkJKjmhvM5rPtoXJoUxEf3W\n",
              "V1HXKMaHmIEHa+jjMprcEzPQO1QdHqGVAjDo3KFeKrgjOHvggZvKnbGArcNUzqYhUNgJ+tCf+jEJ\n",
              "jx+EIwthhfkm5ohr4d2j9/Fucb/wzvO3FfQMDo5dC3I4yU1/8skhCSDingnYbvQZNo0OSkjSnr96\n",
              "T9tVMeNjUkGAZPzw5ipu5MWfKU67Ylw7y1TlgPeS/eCfM7sodVusMTkH1VD9CyWQUFBQgFU1Uv4a\n",
              "aiQ2kkluk9UzN0gY1YY+ACY4+fFmt5CywCD/kgEltRihtvLn+9q5JnnzUxhBRZQcKVT1uPejakSM\n",
              "v+vfnAmpYYbwU+MVNNsZByEmJwc7UoN3vKu8v/NGgdcughi1zNcjNhabuhV2E+VidOznK2U4otkj\n",
              "X/ibuYvIO5E/7JT19yFqXeKEgVdepnP7WoGEOQc6ZBEJXKYu+gAy6fupU+kTgsfGLXCjI7ryvxJz\n",
              "s06qfT6sHV0xbaE5ac+7VeEw0yVdbVVl6bPbFZzCqxQUzL4QKZw/lCjLIJu8QaKkd9TGp1JMtCgs\n",
              "cB2ukWyifXIzITnzBVTLvXkPGpXBiwcSymxDHzoD2jgocfhIwamLIj92y2xBw7ggJWd72z64Uqon\n",
              "2mNli9dtyYBf2mbX9iSO/Ic0SwCSPoIyjkNVoSaP63cV+4K4JuI9ET1Rf25Per0SLVlZyZ1lOnql\n",
              "n32X3y2WqPQ70HfvzPdV/2Qt8x7JkSVSa0Tae62zyknA85tWpA1Gih14JuTSK3RdxGRovUIyfbMs\n",
              "t1ULIk06jRSpOpgEuLhusgKrnwv2GyyetG7SQf7Q7UCLvX6c5rXoqkjyb/laNRLkddmOK1BveMHN\n",
              "qIHyEMHwBz07tIFAmfmypG0nEUVxMgguCt2ld888fdhqnRry9K9O/5+v0WbhEdjxsb7iD07NU2bx\n",
              "GvWUgeh2I1yzr9EjMYqKgvn8xf9YuDvrqhnNJrU96WABK39jKb68kHS92M28pkCDMr1a31O+AmD3\n",
              "0EUxeOg/Ie9ycAdhoG2JgGa70T0wyVh7WtWx6OGLxij3pj9MXjtkPIK6WhCtk4MQCWKCZ/ejpnha\n",
              "4rACLG3ggiby9QtEffI42kIhPJmRtpfu42yqceZ/TjSsgGUgDK0jAICDuCLypvw3UNAhn3Zrdkly\n",
              "o0X5Yinw9k9Arc+HfPxfU9Be19rEgIuytCCKu4SqPMbUwZoEbEQvEZWe7LRrKn+IinvRr46fpowg\n",
              "L74vtbLEj5Lzv+9oAMfKW0NwQuNPvxF7cO0kbi1Q6wR5hahYRmpemXovIZ6QTA9GCECHjNfd5wGR\n",
              "54IEJKEFuAABnHv5rtynQk2kta+22FMYVON2+5sYkM2wB/IKvAb73byupV7EdxAzOsHj1DAWaUHt\n",
              "m8v0L1hKjA+P07YxjbDG4b2oXqbGx3gflqqlhBSk0V4aYUP05eCd3C2TDqLryfN8cFZi/wf69NJi\n",
              "g0X4R4B+2h+sFsG2G19KfmNs6daS0pOqY2bPQxuh+I8a9o01hmId3ehmR6N7bLrTiD4YfawfBKn0\n",
              "JFirJ3Q/bKhy20vgle+aKISjrVLsJcpraKsMG3O8pjnrpOh6EiFndTF5zhCF+Z1ZtMSzsnl+JUVO\n",
              "X3JeB8juMyEFQEJ8iBxbsggfVGp4juSpIJwzb84P0RF4cueXhFDIMbyyFS43yOZ2ccwHOUyaXZfp\n",
              "RItxGYdeQgP6N9dKJeeEr4N1tmGmNNKHVJoH5EF6GMv25nGPzTUaVjztFRvKvF6j8g4CKfxZmrJp\n",
              "IVUK3AlsJElX2C0XRvRxGg7o+ynfEwQ+u0L0nkz9QDdmOmpGArf0IWspryWbm1fXFPa1aGZA7alN\n",
              "uDenIGVUyiJq1NH0czmv0PMdbXeeRa8nNZRoFFFv9dsoj+DsOXjQBwi+o5KXa8x66KCNxL6SflYb\n",
              "kIYwK0gu42c94LMdlZ2LsTmrx7YE64vV7TkxELRnbaVDbpKDMohXq1gQhRtONm0rUMrXAaMXRv/Q\n",
              "6RvD/uAQfsDtxyC5lHNGQdqU8z+ns4vmlHdEyDp3hGo41orMsmdZ4ZzRMD/Na/eO9pXciRVqLOup\n",
              "vuoG87rurMPguq6JVt2Eqwkb/9YSO3tuQa/clTS7okhO1L/TbKXk+0tmQ0XFitnKdPAjlGHRoBxh\n",
              "Tny7yVaUaDlf+2BJWBAvvg0mN0tCAXmrdgiRDd+VQWdyUwcZDN+yUBUErg6yxiCyqZDsZzABV22y\n",
              "a0+XiwzjchGbIklnJ7dial4Y/fVCr9Ty/t9qYDvQIqFeBSVvwYPyJxUJyRqxNXQe1UUclYbP8iU4\n",
              "UnJqKyI9Xb7+Mbv4Vf42ar7sGrAxX9iI7mk0fjp+8VbmZShNAC2WFj6gsU6kvW7NI/ukuE5je6lZ\n",
              "hGxvEABYGkYH3XhJQJgSGS9rO5dDqTvcVqofaqIqJnddaNTE5a09fhCCn84Zdph29rbO7mpYeWXV\n",
              "ctcX5ErNPYuWqaOWBeAzm9Zofj+dINUPg4oph8EavyZGPoI6cDkjc8L2IuSKUXHP6m/UD5bQbn0H\n",
              "cCvIRmcaJD8tQTfyQANwAbp1Sfk4o/LZnH66Xds9zBwCGlIJlWwlM++pm5uygg9Z+lWOOR0sflxO\n",
              "4wEraaBaOLKte+Gyn8wz3gfny+QzJ40vxTVxWrWQDKQVExPqoi7SdMbOZ9bIqw/pmhXMXu+EJR2A\n",
              "LqQ0DiPhIUauY+tULj/vYxUYogZCYUn7dkKt7IT0mcommH/CJLyJ5H6INUIbSpjyVarldV6HdQh4\n",
              "ob3Fap5KkF9TDsUSIDHqWJmcvr8OccaOU3I4myvFZruG/jlnywQSo4VORB0ia5pYztTCmqQPW7kv\n",
              "c2/KMvcWsdl79hu1vPeQ5mNBhF5IaItgUYq4BgFtxjFVjCP8gYrJ8SPOccPXHwDmNGfOrH5dyAun\n",
              "u60qNqvwSFXYjt185yCWLRS9WiGng8G3O99ZOTKcr+IoY7DaCWye26XU9PqlmUk6Mb2tEhyJc6Pk\n",
              "2zYWjWeYHI4aG8EzUNPNmIE1UWNzTZirJoVI7Rh7Nzr+4KDmtgkpOIzw2fk0+G9uVYsUFWaxl+48\n",
              "NOWpxjUg9SRCklGeol7Xw5Ka/CFf156gVUyUkrN0tLGUIras1yHfiN80Bfm+bmuzWhPzXP2uq1ni\n",
              "eOCs4sOAUL9w0wwxRbYUFrfVTdDznMiYsctxLL3dDkJHyOxQlNvrTc155sGlJwCRskoTg2wUVxo4\n",
              "px8cCEXnQD+jUPoNJky2ceHRxRI+DBWhDOmdgx32FMQVL7k9Xn7x8U0H+9fMzBGmg9orfcbrbBku\n",
              "yHxg9wfu5s2B0ToTXClj5qY8NUYReUd+yHfjmdZXnMm9YGfBbZ60QLu9r2XT11Rra7ciMKkrTaIQ\n",
              "QAYesRyGbF5JAtRWl0ExP0jTVQnAX23YV3t1AeCgHIcyE5FU6XjrlKTQEqmmZvX8SuE1aL5WEQP5\n",
              "Lgc/Gu3YdZ6Nrncp634fxhhuDden0iBHtAPc0qJiH5UJioH04USRopotWr2nTU/q6LdWv98GVGWL\n",
              "U1Wh6/+t0mEZuXUXdzI14pejXKxqsnqUcoQjvlGiI5Z6ld6scYbgmmhYmUh1PLTftzGUqqx6x3u9\n",
              "5yALsUM1de/m3moCg7cCfzjclCTJCHxd7YvOv0p4lK616zddAeK3ouU9UoI1PxJVQE/MlKmNXsUr\n",
              "D5trg0AHKhCoFBoH4g9r8Q14x/1pum+LdvrWdYqenyTHVBOsMsF6Vhsa0mf6b6uxtwjNKdojK7cA\n",
              "Enu3mfRBsGslwJ1TXhXH1bxHIHQ6+BGpCATngrG2eJ1qlMogJk6LfxElCLGDu8+t/zl9aJWrb/YL\n",
              "vlFe/ypJ/LyGOjRDAAADABWl8boRxj7RHuWEc8bJ/r7baznTpJ/d2wGVP3ByuvnbeuHxUBZ7Vfgk\n",
              "liXCRnOjl0ij2IK9sCJFAHNbQj1m9ImVAAADADbJXnHFexOnpKdn1iAjFQW7pJ0fyPlOSn0ycjG3\n",
              "+C4wRIUpPTAEXVLP/LJ1ZxnJ1pLy7XW2uh93o0plwutyfAEAAR6+N0I4xfGFPbrrTCIb9mj6EkFe\n",
              "97GXSbCnSnMiqCr6z8rRrD5UPHjmJfIn+gIYyOQyCfUGRBi7/LF4/1jCAAAyY9uhBW5YQz2v86bg\n",
              "3hii7dej+IoxiLOlZvqnqnvq/Fmjr6KK0HDrgvVvTnrFxVRf4sRa7wGLHywMgLtKEoADyfjdcHNU\n",
              "AX5pCFXiZit68k5PHRdI0gCSuXI48ObnCNbI7/3fW4iEy2R/LEwYJnK+nEsvjE+xg45AKb8MbjIJ\n",
              "OtASr2/6AEyqULXBJzVipj++rVQlCKQnJ53kHdUCFxX3sjz7je2BhhFTNVHYZ5iUaC5HYEO6wA4e\n",
              "OnvueOHTOCdCyfr/GysfVn2CXiuqCspxqJfcOH8XdOLOoDSsDjkmxmzupnyUtMdWMGSF7phpqVJB\n",
              "gpS1iwPUtmybhZEbg3sjWdAs0xjEey9FabRw/aKlKvIG+KCCKf8tctr9xq3hDdSRpDuOF1LpvzmJ\n",
              "TEAYO/+XXWNlyY0dz75FJw1BMZVYnVU8GBtffna/si4IuoWdaihreguuMRsebkvFDP/rIxXa2c+h\n",
              "1I6ZuNMT9bJvBx0BF3lQVvL4W2FLvF7TY9wmyJ6utNtH3nDYX/9cJCPcT8lbblGMjib0o7T1+6LD\n",
              "VzIgI12CVTKC1CjJtmymQkHBnaVqpbMoXTG+kHU4mDmbkLHIF/lzJc9qmAbojbBoJ+YHyeP4KKgW\n",
              "D6OUTgSpxyDJNO3X3R/LXDJnOkaCKE2fCfFt5ik18P/2dZ9CbL6Q6GwiSSM8TC/ZIaGygliSSoVl\n",
              "dADv0vjgzlkEAOVxRdyHOk9ZbDEPOvKhBN1dM+V3LMLhsigwWCvegGRWVNUqxXUtZXeW1lji6NnQ\n",
              "J608dVebLkvhXSjMwFQOKnY3iOpRKi22La/ZDNcQzKePJUP9DjNgwaXqiceLt3yI8CT1cVQqIl8V\n",
              "8j1MsMQsL0tlHXc40T2uE98Gne7T/ooHLGkDjJip79DkDdJrYwN0d07GT3zJKWwAmzNVedOK9l4/\n",
              "8pYU5dYj1ASylEHq6nOSLX1Ere+3A6jHEq8S+mAa+PNNXYoRkRzLKx5FKOHSmGtXE7rInJ/+sdpk\n",
              "9cupkcKnszrkZyAJMSS9t0uQDaNqVYwfyO/fg2v46p1BwDwB0hDspYs+nfSYL/XYxT7+xvRacoGh\n",
              "cghXSP0ximDSlxLRPBCHm+fE+ZANDfWmHAMAAAMAAAMAAAMAAAMBawAAB71BmiJsQX/+2qZYABS+\n",
              "SgB73XfPSgADr/CopVbhWoolpAjhr8U0oLjEkml5Gvnbx//HazIwWdJG1wwMe1kWA83D+BwEUGnW\n",
              "RWUjDhPrc+g+NOYlLSw7qe5BnEf5x96cvMzcbsjV1Ddi4XXEi/4AqxLSgiTkoK8xqNddLsTMx3Tx\n",
              "u/t4gKBjMbCbZnwUKQadBSYBBO82AG4rNAPWQWJ91Jw9sYk8NCdoRoulQG1iMZBlaX6jzFQLUqzx\n",
              "nEqEoqTnmQRs0sFjJnxrCybLasabCB+BFu/+7/RenEPDz/CzIlYTA4gkHqxgGQzCnZdm2y6ALuxc\n",
              "ajP+cwNTtVhulS0/RwWi6V59N2vjgGCaMLZNln1h1f205dwTFLQLxoDtRLrMv6w7QOJb0/2pLSkr\n",
              "saWLCzqiXw2bnSkngYbI8Lyqn7k1OAbcnilo9KN/zy1Cz/nyihESbXlAi389Iy4eCVJzyx1V7XSZ\n",
              "txTmfehV387f0xkjIVzaAL2AmlepgNrbRqn1DurGWjdC03XnT87e/UlPhOgK9fVW82/ktMDb9kTH\n",
              "pTyhnN26Y9SBiOANgcjmJqNmJlyX+7B1xS6HEHvEs24TmuFQWfFHuWD4CIxQhOw+Xgjb1/VNMGiJ\n",
              "S0G/NnOWF1A2Ljh05cPn9aDB+LVcKdiK8lL0rziOcjOPZmk5JGt6iejBDJAytOLCHpO+7Mizz1k4\n",
              "gyBxJj5ZQZbxmTXLt+wjfm7qIWDaF5uvNGBhXi05bGArOfbJq/baV75apcqo5B3EZbLLp9qQx0ps\n",
              "2/YYIun2zfCwXh0DYmdDAUaD0xIWAhOnl0kUaYBLe/YiIX88ReGFEAsWVWrM+l2bru9T/m73w028\n",
              "sLyl+9SoQ15GJlRi5q/fFhBVvXX/XcFlCEK8bHvoLv/e4uTTxB+1J0yFwYdeJRDJZA1toVcM3C96\n",
              "6da23mJ8yao3TK8hOJE2Yo5rQ98wv2pDczCCW6ZypM4mK4YVBJQ/7O/8wcLXup5MGUuqw5obWvJV\n",
              "VQZiSc5D3wKxYOzUi8TEhKCj9bFz6CpwJHZWMhjUaQWTgJgMeE2hOsfuR2pLuQdifyI/LofcC78V\n",
              "vkkkR5+Ww/e8oAfDRNF3LApVCDXzCvpXabFBitWRlREfn8zYTiP4Y5WSwgVk+WJ0XJlZ7gyvWcJs\n",
              "WhtkfOgekvlEqfyoPj/8Qx0ZB1CcK+wBSUZjA4NS6jtUIEvLcq0DHoJaIAc8MdIOVLC1t7FykM3W\n",
              "9THlhY2xunYjBvp0jT3DGn1DbTJU+IyVHcax8xzn8UPEGecSQ3wNBRghLiNc/bVJ8kSNXIAAryaV\n",
              "ZFPZcnfTadfR88yOpjuqJgzWVQzQxMGPbbgB6SDGczJI0w/Kl3uQwYBNKkMcwp4MopW1Mtrxftul\n",
              "IzUxAE4PNmobUSyZtu6k3C2fBx2mzeZNrItfByF/IT1NO0Bx6XxSG76Pw1P6yCWXmHqnzK3nSx79\n",
              "B1IqmcPnbqDTbTNIH68dSl7OGRI9VoNdK1RdQJYq+/AypoRZpD7sY5w6Z874osPGLpuV1Ok2a6mE\n",
              "RZJPfhttgCvFxlQWCit3EUnvvgVcFImANOXOYJmOAIDsHnTnhPuX4b224eC/ZKU+Acpnf5gatmKC\n",
              "zMAEee1l1N6PFZytnlHpY3SJFmBy72l7xSu6flXdREnkqKJ+EYy/lzmy7/aqeKYSVRRMq6t0pw9Z\n",
              "a8vgq5fOyUnAaE+bq4njgFoBhheafPsTeTS0KdSDebG3PR0JK9OiS2mjtj4hJ4pO8Hhs+tw2T+Ii\n",
              "dy6Dbv1SDJakM2db5vfKlxRG6rJ/lF01B4bEmOtrLwFqjL9TWrmRBVA/EBim3HWWj+E+eCmJKj0S\n",
              "HJohRNaB8R/aNxbGzxBMSqVNtn6+3c+SpqY8WX547x5BrUA7PetpDEykRo3XHnVn7EzmV8EStRMo\n",
              "HnL5nB20Z6UhvEUYXAFZziZx/e/or/Mfp50XdBzkicsXMai3P6aSw4+1+y+8/jnUKtVdHnSbGB/U\n",
              "UAWZ7KTeBxhc2NrFS88Jo7LMnCcDsYwmiXthKfNz+oeuDpPo+P3IkcNPwFN7W/3NTkfFkk5SpVzN\n",
              "zdqwKXpN4m0HmCOQlgvGrhGiCJP6FX5dyeJv1pEZ18SgXXyjoyz75piMmHnC2ERxgA71c+VB41u7\n",
              "4EoecIc/yy2N5p6D9lL8OdxYqhw3hEnPLZYWGktJhtPwwlHjeuxxpMQvqSWJZK6Zeu23IWMj/vsx\n",
              "UUQARBk/OMibpFbHKHHtGZfBNIGyLmdeDOejGVJWOyO2eA+cz1DrNslojRs80cV+gq8fU5DBHc8F\n",
              "vLNGJb2lk5Xmucj9/j6DUOcjYptIpb78Fyu4P9n8jO5IIXQ9lK4NFahY14jXZ1mxGU5g6zWSu7gU\n",
              "gnnjjDwJUgI0v7IMsEWZOs5ZGasGfaf1NhguTghTElXO0TAIWxF5CYG+KWlVP7C9qLUJteva2cp0\n",
              "3Iay+m9z845hNf2uqITVI2XnmB54Npt/rb0CXVmTxJhch75qy4m4QQN8tYqq3Q+LFEy5zcj7PXpO\n",
              "9O8VgrwSlL9M8irlm2ZWMLxY9mcLOXmB3331adf4KbMxKm7v6+F8Xd2QA/O2IrP0G2JJUZrOiRCo\n",
              "grfNMUg12BRVXbI6BpRfOReFCkqffiOAAASt4CvgAAACSgGeQXkFfwAADaYgxgvd6S8sUEMACHWM\n",
              "j3+DbrWPnCn51+qnAA9Oo681LZMArGR2H9/4iYHTuMQIoCbVgMz48CcwJsqkHkByVtiYMJ++ewPL\n",
              "AWx30IzHGD0SJtSfo/NDKiXVvffPHuqADZYOf5OW/ZQPZ4mxEAAA94/mEmT5WKhsqDPkrM0CxIVJ\n",
              "sSaWX08t/PjDEaXsPieCXWZ8JoOZwHwHwMu1DOaBO6c/7pFR8hLhgoU4He9FQ2bifTalA/8klrns\n",
              "gnlHyjt8nZBxY8nj1KkOiowCN6A/8Fiz9sGYc++8jW1wZLkHPs+nhVHCYtH3Tx2eSJeRIeHaMO4X\n",
              "BEj7At1BvusLL4urOTcYbQfGBACsUoTjEJgj50T9nQqevvU10ZlSI5o9iOlKpXcp7HCAUq7FPfXD\n",
              "3w+yzkivpSr7pajIvo9RHq/+CnEpArext3/3jN78OUzzVZsSNHDi8tVMDN2rBsJ8rkN67LwrWeVx\n",
              "YJZ7YCkyov19eW+q9g/HTt2DhUQ7spzaVLpvEsnzPq9/n4Npl7FlpUnC9HReCQwyQFZav7JNb90H\n",
              "5mkAc2HPerFNv/GcNeF4lr39PCh5UvFs+QhipAxsfX7cXpSU6uRJgsyO5+mEh0EQDabjZrOhA2fX\n",
              "3UuSMD0OukmrivIPCAg5RSNvU8WISoh/waKyhKEO8eU1LbTjfh9TNsoCvoQ0Q8NFJrXj/lvbAdCd\n",
              "PAGACdchRcRxbyUg23CaCbNsThmmaRYXeWAVtaj0yxVK9khJOxpXhS30C6NJeOJA1YEAAAdOQZpG\n",
              "PCGTKYQX//7aplgAFLMqWgAF7zvubr2XODFds4G1/e8SU+wrmbUX2v5xcWLEJ4XIsaiwMKCzO9FY\n",
              "2IZJELMffm7MWj/OVFGpOAId4qfakvnGy9CZzDX5gJKcZuWebRc+orgWFIfYvwbsS+Eck5qvDOpt\n",
              "k27szMGiJVePBZss/vMSJKg84mFmGvCfUltpUkdI2u+9echnM4GByhq2Fca8kKLp2V042p5T+5O4\n",
              "FNKfuf2G8lJB5DmJyj5yHhh992xRlN/bbgH1gZRM/EK+TbQqBzn5e1ZOHyVg/7pt0oZE2Jv2Xj5m\n",
              "/KWMFpxXxxws/wHDRMiyLzLcF1RDmGtHBNuYncokpcskvaJ7BJGJaasNIdZmt/6Qg3fFCzzNAeeb\n",
              "Yd69Q/TXONZT9HbUKXgmPRBrYLt+8St1UkE3seZ1CQ5POOmncSMvfqc7P8Qz5tcsr6SoNU13cosB\n",
              "Be2F/bAnFYjltN7CKO/uSYRpTwimBIfXnMT7IMycj2uoREHUvq1CcaTGrCuqAGBMwnEyY7r6AeS4\n",
              "ZmAXN9K2D466q/WrY7GAYDPhXNJfWy7MpCcuaai6Jyp+BjK68utQOrsYUvNtfKApDZKAVu0RbjkJ\n",
              "AWnGXZ3B1IAwSKrP44zZ78kj2aXZsgFF/aTFcDPNlEqmwKuGEgGCEZ3IrDYUoAv3qDMEsthQAmrb\n",
              "iJQmXeeXmQi42QCxQnBwAKwXaAL9zRTbXTnqFNHB2Jj8BSKIt6kRCzEPMjtruJJO8nbuip6xo0zk\n",
              "Vud8wbL3q0UPpPp+nTrBjHcTu8MTezwO0yMOwdqWBlu1K/HBt5tivJnY1sgAmT9hRx+68LJBPQu4\n",
              "B6FPCuRS2WNVt8kgmlNtD9PdukaPNQVLRGLThNH5jtSOn/Gfvo119E1F0hdVeRONneyhupmwMr1P\n",
              "VMXKVjcXiqvNdR/cvmiG4RHYgLw0cWEH3NOtfz5UwJ00xSrHBDdlN4lgi7KHjttB2dfPpPyYghq0\n",
              "B1XMjcshJwaJ2TsKQAjTcZcBHNecNrn0DvXrz9PSlH/ZeACEfBobdaxSl/zjKXaClD+LiZsixTJ+\n",
              "nFGwBYJbz5kbvD4yyet/xU4t65MoMvGgZWM8nTTxQzXPX3XJqT3KYGQAYwLZI/oYNI4tRUoeLchT\n",
              "kCF6Ky6ykKDk7/mUD78ZjmCBeOMjI+1PtQFMwQza/HlMls7jjP0dX6SfDa+aS8+48K7z+ufAZOqz\n",
              "Qi3ck+dyYaV77mF5KS87hZ6m68cXdWAqxVm8ncoNlVmSNqCSVGAP13/95dDu22ZLzmPrkeYzCsXX\n",
              "Z5CoEyQJxdGc6EKyF26TOdAtX9w1XyzRi2+UoGNQC6QRORebXgrqwrgxYIygao2qcbmERmwfRVjN\n",
              "if9wbgmdd3ZByOwgIyRpdnOXSZbDS3zTY2T0bVgElu0Xm8i7yFKu5fcVzZlQsxJgTQi9K+Mk2p/o\n",
              "uVCy5D8GB99H4o7JjPgE9YQkO8Rl0Qij6HerYwXWXTohascaULew9CHztHBZK8wpcNSyLPMfkgHM\n",
              "oG7c8PHOHIAgvYInQzJMfKZoJ11DH0G5DaIFQc5lR5AkHx3AoqcBF9ocwXu3xV6f8yoM71+J1YmN\n",
              "GDyezhO/HpAa6ZEHJDvDM6IyxOmAwQoYTXr5/8zUxGYtMxvhEABf36BhmksHcdMUZbVyZKrTp7PA\n",
              "E4SgjL0HyEAWy0Yb2OKzm54AysBOJ+n4C8zOq+OBWr+pdzwdoRicK1qz5TuTbpNgv5Q6+BPLzx9D\n",
              "/RVvbbhkfrusdrsh3ik5oFV8kcDmurKRTsFo8UR+vT7yFvWaBAINzedZuaDak03AyCEjRiTy9Dq5\n",
              "DOZTX09lwvvej+u7xwEnNZRK5dXl/W4Q4EPMsXzatZGMFwXTYhZ32vi295r35D/qAu/1ASk+xL4T\n",
              "F26MMSFwtK90+8QeI6Wq7YyItFd0WJd0u1RooVl4FAE67ZjEGasNAWCeYyt6FyYVycVzAHOTP64R\n",
              "A0WUpbRrm8QUt03C9RJvHZXFuJgGOR6hh2K7tbvbkeUeYsvm3gaMSH8pj6BfaUf8b4i4ux8/KmSG\n",
              "A2goMtkzRiyOeTw+6U+zlDL2YO0vUYNXXVgBgcem0P0DKOQ5yh6X/2oCFq1ZF7lrRpXHhRBx+8uc\n",
              "CDnF08WnhB5d1NDqRyAp2onP64TkffvAc/kkQr0zq7kANT7k0zgfbKwQ0WrAiXWhGus07S5hdQTI\n",
              "n8267I6GqxVZB2eXGcIp3WbCcnKvxxioVnQHdoUwjUB8A4dxPTy+A6fbRL77ncdYAdAl+g7IBLf8\n",
              "vBRxUwjAEHqeWZc5cjpCHL+NinuSoeOe2OV3UYsPT98XsjU4ZRTFyzAvXE+/TTQW5qXXI14aEIrs\n",
              "OO+HFGcPjI8M/O1W/DRASoxJ0jSxBW3bQjZufnhOT+vFd/gaQtTByWc/3Xd6KZmtwQgAdlVIMtdk\n",
              "Cde2MlfLs3fGsSQ3nKDRpJjc07T1GwDnCXUBWH2kgjiQwRhbh8q71QABxwAAAXlBnmRqU8FvAAAI\n",
              "y8+y9jewCTtfHDsToABUpzf7HKCIFBnVNDlpVgt6DTy6x+K7m6jeNlQMz2d7oczNqt2gB2y4XUnp\n",
              "n+6w1j4RPdccb8kNWxBsKhH5drDxBQpZhepCIAdIDAbI49IpofdtWj/e3wKCbYCDh514IFwjaGd4\n",
              "jBU1wjCj3fdJOvqZSB0Ud5Peus99xmxeUkRp1NB8HVE0yf1iYuHo9D/0F2TlghU/Vo3+JyuhzGj6\n",
              "d0J6U9CJp7kaSR5MJeISHDuA0TIM44J7jOx1d84EcHes5HPBKCwdHJ9+QiyGkhimGn2AKv6dly+L\n",
              "9Tidc3Rt+CJLfRuf3XBJdBa0S6uNrRh2FOHLWT69M3cBb6YZN0VhzQMmPEx9sQG/2z/nMqD6LgY/\n",
              "ckDVc3OA952RA+hCr2CJKELFot09ju0EnQnztgWzcK4vRiU2NJvc4Ica+Z6N5aBNcmgajv+M9Qv4\n",
              "Od1Qb/16bruC/UNwoy8gBysib5cawWIFJQAAAQIBnoN0QV8AAA2liNPKS6ii3p4ADrlh/13sbvcr\n",
              "u2BxFrv5Bt+Id3xPLJAwtqy1XqMwEukpMZ4NZ1Y/9zmn5xzULlCPc/uqOFsCLa/LuanDqFjhVzkd\n",
              "9EtKOEndSxdVH01+iG3VZZBeULpPIW34/2S8NnDD+Qcmi6GWoO4tsW3OBFfcjh3gStPyKjb7iNBo\n",
              "D4btmDSxSuOjA8n23rEuR5TExyHGL6nLlEu5QOm95cT8g+lphWUDcr6h5WBA0vqBrY65OJJuNvFy\n",
              "CKWqcyiA9R311/MJfqRVhpxeuZZcXxP1QTTErjJ/k38h7y0xWmPZofNXUVvvCzaNv7FRwV5w+FsA\n",
              "B80AAADVAZ6FakFfAAANpiC09JxWjyqt/ABycx37v28LIg3SmP3NA+eGjoobgNs9M2j99Spjl3hw\n",
              "dYFJSUuK/ajgdung7STXRpy8z88Rkwzf8w9jhb/mE86TuhrhnC2kFr9tXV/1pQtr2NWFC3Qh+NS1\n",
              "y6ixZmxuyZbYZ2TfMdf4+Z4MeMEZSHoB2RvQkjvD6D+U/Y34eESYWsSc6H6bpW4XqdmMTuqA/luk\n",
              "342cJP+67dLf5B7nehW7R8jDswZoPmoSa35/4JjpFFHzYMuifah2uloXlXU04ARtAAACnUGaiEmo\n",
              "QWiZTBTwX//+2qZYABSglyWtZTMzkAGVy04RxeZVoOVCGpuwP2G+4xRQIILIZi/m+8HBZ/eHvmXc\n",
              "NXbs7WdwasISXpZvK6QRgLee59gvD8mxToGfdhJLhu/sQxfaEnq8urJCm6yitBmQRpksXrMFzEyx\n",
              "/+8dFMkqsLJnlhg57A33neNOtVPLZPc/LaPxEAO2q17IdklAt70GpYtN516XrMv2IfSawitnVmp5\n",
              "geyqQAJdbkoFIEOMgsIq+7y1U3OHv+rSJTpaAuoBlxZ3b1dqx/me5JVFHvcnrTdVaBP/czQNcqPU\n",
              "I+thKO+IuoVeufWkWYHC4CgJYDa2HzcADObBihrkrFpqFAucwoIRNexubK/UcNx1za0ZzNjfx76/\n",
              "kW2AO9gseDK5ZSPNdsHj5O2Q1VFfl8y0Z1pQADaD4nZvTb4xbhHgRxUVY1gIrQP4JbZQnzQYY8vA\n",
              "TM+mjRMJd9ijSHed2WVusR2dLZh8BzlwDfPw9vTb+OdGCi+KXFnWMB9E+YgVGNi7xtW41N+w80k3\n",
              "nhWBgJtf/c8mJUcxdc1Bl9PJAW7fj4rdrm5mNM4iNQAeATkDdbcttAIS0e7SFyn9h1cRw+01ZjNQ\n",
              "Cijq6UFBqkshYNKVST6GbDYaM81t772URL/Ncs2rqyV4PUb4GT7Z0sShLvNhiTSCiGOYe7G/Y8L7\n",
              "wwvMrPBZHtAuQ5WIObMM8ENefdcrbtAWBOjrkpkpuU89WHUxT3HHHYd8BJWTUmqo9HrYi8qr4lLQ\n",
              "B+OfwIuaA67tUmCpuxJL5H66bSBI1FIu1Hv1y3pYrLqZjMTmMj6Dilj9yndStYhvdd8l10vvdDPg\n",
              "bvr0NE/3oFnGefG6EnfdYxKLi+gT4VSAN6a7XyJCmpid5dIFbQAAALcBnqdqQV8AAA2vPDTwa7UB\n",
              "eoAQiw+0QBu5zFS2J5qnYUlph6auHdpY/j12W4u2pDkQe7wUrz5qdRsaZDr3UsezX5vwRlgB7hnw\n",
              "kCBgQZGMY2endoQne/Zb9JNt1cz85F2wU4WOYHzCjVrLKFFT6W5I+3DWGAyJ7QBTNo0FSdRBevA/\n",
              "SNZiFN4Hy7x48CVCN9ROkPWAZPgs+ighSEJaOF0K/gCNGepMo1jNKiOop9Hf/iHVZ2KAA2YAAAHN\n",
              "QZqqSeEKUmUwUsFf/talUAAZTYaoWJC6NZqFALHrubPTg2xCZCzC+6ObmvVMAF28HEwsxZmt09LK\n",
              "wCBzKA4VYl7ZRyvUjtkZ8LE6sK3S1Qu/NZX6SBtQJhkDgE6cTliNz6SMz49r4vDmGkviabB/JCb5\n",
              "pLJTxixQ6pUE3HCLDkKMVBNdIAFpZFalxhd14CmBSs4M9WF38phKVBzifAg1IT5L2rm2RLcehFAR\n",
              "uM7j39M+IWC5vg8uZnNUxXHOOfwCb8BPR0h/zAVyg8aPP3bO0FJMv6XPWDBuTXWB80Opl+VNYspU\n",
              "b1bp2Bx53to8L05Vqt+B3/9mTBeICYvMnA5LwiWLc+Isf0lWWo/1T4tf3CFcUZr8z18JSTgpj9N0\n",
              "nv9pNcB7UjTgNOnlE9ROADJ+Ey+8ENrwpJisQv++z7k2RgesllDiLdwSHO8SfkGHG8bz7nRgFEOI\n",
              "BgXKZZswxAAYrOKudBO7wGJPOSMHcB933pXsQYPS6cg/MvOfzzW+bNR4CLZ+4u79bLHgDCeFc/73\n",
              "1Bx8ms8cYiQr7eNQ+8vJnXIq162YyST8YMwLPB0z+QYW3BQLgpm5pzaLRQxFix9bBNYwzIqrsG6K\n",
              "o5wgBWwAAADTAZ7JakFfAAAQye1byYTzpPehxVpVV9x0sUhs0yzWIgADo0eLy3Ky1RFFpVb/rfN8\n",
              "yvycC+e7/29zKxziF9gVH4G/o512CSPSpAaHlGIdzpMP1bQxjqUKIXeGLC3bhDvQjb7Zbo72tfth\n",
              "W1VJ/BiQm93RGnnA8l7iUJaLL7kj653LywCGoCE6gyNXOn39KD6vraH4HYTwyAG3JlG7mbOtXHA6\n",
              "GVgLV2ijx9AVKMLc/mmqUUR36CR/FfTn2klKc8gnh7Hx9ka014082xfxnqO8HkAZ8QAAA7Ntb292\n",
              "AAAAbG12aGQAAAAAAAAAAAAAAAAAAAPoAAAq+AABAAABAAAAAAAAAAAAAAAAAQAAAAAAAAAAAAAA\n",
              "AAAAAAEAAAAAAAAAAAAAAAAAAEAAAAAAAAAAAAAAAAAAAAAAAAAAAAAAAAAAAAAAAAACAAAC3XRy\n",
              "YWsAAABcdGtoZAAAAAMAAAAAAAAAAAAAAAEAAAAAAAAq+AAAAAAAAAAAAAAAAAAAAAAAAQAAAAAA\n",
              "AAAAAAAAAAAAAAEAAAAAAAAAAAAAAAAAAEAAAAAC0AAAAtAAAAAAACRlZHRzAAAAHGVsc3QAAAAA\n",
              "AAAAAQAAKvgAAIAAAAEAAAAAAlVtZGlhAAAAIG1kaGQAAAAAAAAAAAAAAAAAAEAAAALAAFXEAAAA\n",
              "AAAtaGRscgAAAAAAAAAAdmlkZQAAAAAAAAAAAAAAAFZpZGVvSGFuZGxlcgAAAAIAbWluZgAAABR2\n",
              "bWhkAAAAAQAAAAAAAAAAAAAAJGRpbmYAAAAcZHJlZgAAAAAAAAABAAAADHVybCAAAAABAAABwHN0\n",
              "YmwAAAC0c3RzZAAAAAAAAAABAAAApGF2YzEAAAAAAAAAAQAAAAAAAAAAAAAAAAAAAAAC0ALQAEgA\n",
              "AABIAAAAAAAAAAEAAAAAAAAAAAAAAAAAAAAAAAAAAAAAAAAAAAAAAAAAAAAY//8AAAAyYXZjQwFk\n",
              "AB//4QAZZ2QAH6zZQLQW6EAAAAMAQAAAAwCDxgxlgAEABmjr48siwAAAABx1dWlka2hA8l8kT8W6\n",
              "OaUbzwMj8wAAAAAAAAAYc3R0cwAAAAAAAAABAAAACwAAQAAAAAAUc3RzcwAAAAAAAAABAAAAAQAA\n",
              "AGhjdHRzAAAAAAAAAAsAAAABAACAAAAAAAEAAMAAAAAAAQAAQAAAAAABAAFAAAAAAAEAAIAAAAAA\n",
              "AQAAAAAAAAABAABAAAAAAAEAAMAAAAAAAQAAQAAAAAABAADAAAAAAAEAAEAAAAAAHHN0c2MAAAAA\n",
              "AAAAAQAAAAEAAAALAAAAAQAAAEBzdHN6AAAAAAAAAAAAAAALAAAZJQAAB8EAAAJOAAAHUgAAAX0A\n",
              "AAEGAAAA2QAAAqEAAAC7AAAB0QAAANcAAAAUc3RjbwAAAAAAAAABAAAALAAAAGJ1ZHRhAAAAWm1l\n",
              "dGEAAAAAAAAAIWhkbHIAAAAAAAAAAG1kaXJhcHBsAAAAAAAAAAAAAAAALWlsc3QAAAAlqXRvbwAA\n",
              "AB1kYXRhAAAAAQAAAABMYXZmNTcuODMuMTAw\n",
              "\">\n",
              "  Your browser does not support the video tag.\n",
              "</video>"
            ]
          },
          "metadata": {},
          "execution_count": 26
        }
      ]
    }
  ]
}